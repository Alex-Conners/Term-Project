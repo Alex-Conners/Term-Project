{
 "cells": [
  {
   "cell_type": "code",
   "execution_count": 1,
   "id": "9f4f897f",
   "metadata": {},
   "outputs": [
    {
     "name": "stdout",
     "output_type": "stream",
     "text": [
      "80.854996\n"
     ]
    }
   ],
   "source": [
    "import numpy as np\n",
    "import matplotlib.pyplot as plt\n",
    "\n",
    "data = np.loadtxt(\"sample_AAPL.txt\", delimiter=\",\")\n",
    "\n",
    "def buy_and_sell(stock_price):\n",
    "    max_profit_val, current_max_val = 0, 0 \n",
    "    for price in reversed(stock_price):                       \n",
    "        current_max_val = max(current_max_val, price)          \n",
    "        potential_profit = current_max_val - price          \n",
    "        max_profit_val = max(potential_profit, max_profit_val)\n",
    "\n",
    "    return max_profit_val\n",
    "\n",
    "print(buy_and_sell(data))"
   ]
  },
  {
   "cell_type": "code",
   "execution_count": null,
   "id": "120b3d8f",
   "metadata": {},
   "outputs": [],
   "source": []
  }
 ],
 "metadata": {
  "kernelspec": {
   "display_name": "Python 3 (ipykernel)",
   "language": "python",
   "name": "python3"
  },
  "language_info": {
   "codemirror_mode": {
    "name": "ipython",
    "version": 3
   },
   "file_extension": ".py",
   "mimetype": "text/x-python",
   "name": "python",
   "nbconvert_exporter": "python",
   "pygments_lexer": "ipython3",
   "version": "3.11.4"
  }
 },
 "nbformat": 4,
 "nbformat_minor": 5
}
